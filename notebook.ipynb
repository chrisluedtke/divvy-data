{
 "cells": [
  {
   "cell_type": "code",
   "execution_count": 1,
   "metadata": {},
   "outputs": [],
   "source": [
    "import pandas as pd\n",
    "\n",
    "import divvy"
   ]
  },
  {
   "cell_type": "code",
   "execution_count": 5,
   "metadata": {
    "scrolled": true
   },
   "outputs": [
    {
     "data": {
      "text/html": [
       "<div>\n",
       "<style scoped>\n",
       "    .dataframe tbody tr th:only-of-type {\n",
       "        vertical-align: middle;\n",
       "    }\n",
       "\n",
       "    .dataframe tbody tr th {\n",
       "        vertical-align: top;\n",
       "    }\n",
       "\n",
       "    .dataframe thead th {\n",
       "        text-align: right;\n",
       "    }\n",
       "</style>\n",
       "<table border=\"1\" class=\"dataframe\">\n",
       "  <thead>\n",
       "    <tr style=\"text-align: right;\">\n",
       "      <th></th>\n",
       "      <th>altitude</th>\n",
       "      <th>availableBikes</th>\n",
       "      <th>availableDocks</th>\n",
       "      <th>city</th>\n",
       "      <th>id</th>\n",
       "      <th>is_renting</th>\n",
       "      <th>kioskType</th>\n",
       "      <th>landMark</th>\n",
       "      <th>lastCommunicationTime</th>\n",
       "      <th>latitude</th>\n",
       "      <th>...</th>\n",
       "      <th>postalCode</th>\n",
       "      <th>stAddress1</th>\n",
       "      <th>stAddress2</th>\n",
       "      <th>stationName</th>\n",
       "      <th>status</th>\n",
       "      <th>statusKey</th>\n",
       "      <th>statusValue</th>\n",
       "      <th>testStation</th>\n",
       "      <th>totalDocks</th>\n",
       "      <th>executionTime</th>\n",
       "    </tr>\n",
       "  </thead>\n",
       "  <tbody>\n",
       "    <tr>\n",
       "      <th>0</th>\n",
       "      <td></td>\n",
       "      <td>19</td>\n",
       "      <td>20</td>\n",
       "      <td>Chicago</td>\n",
       "      <td>2</td>\n",
       "      <td>True</td>\n",
       "      <td>K3_FULL</td>\n",
       "      <td>15541</td>\n",
       "      <td>2019-02-04 18:22:28</td>\n",
       "      <td>41.876470</td>\n",
       "      <td>...</td>\n",
       "      <td>60605</td>\n",
       "      <td>Buckingham Fountain</td>\n",
       "      <td></td>\n",
       "      <td>Buckingham Fountain</td>\n",
       "      <td>IN_SERVICE</td>\n",
       "      <td>1</td>\n",
       "      <td>In Service</td>\n",
       "      <td>False</td>\n",
       "      <td>39</td>\n",
       "      <td>2019-02-04 18:25:34</td>\n",
       "    </tr>\n",
       "    <tr>\n",
       "      <th>1</th>\n",
       "      <td></td>\n",
       "      <td>5</td>\n",
       "      <td>50</td>\n",
       "      <td>Chicago</td>\n",
       "      <td>3</td>\n",
       "      <td>True</td>\n",
       "      <td>K3_FULL</td>\n",
       "      <td>15544</td>\n",
       "      <td>2019-02-04 18:25:32</td>\n",
       "      <td>41.867226</td>\n",
       "      <td>...</td>\n",
       "      <td></td>\n",
       "      <td>Shedd Aquarium</td>\n",
       "      <td></td>\n",
       "      <td>Shedd Aquarium</td>\n",
       "      <td>IN_SERVICE</td>\n",
       "      <td>1</td>\n",
       "      <td>In Service</td>\n",
       "      <td>False</td>\n",
       "      <td>55</td>\n",
       "      <td>2019-02-04 18:25:34</td>\n",
       "    </tr>\n",
       "    <tr>\n",
       "      <th>2</th>\n",
       "      <td></td>\n",
       "      <td>10</td>\n",
       "      <td>13</td>\n",
       "      <td>Chicago</td>\n",
       "      <td>4</td>\n",
       "      <td>True</td>\n",
       "      <td>K3_FULL</td>\n",
       "      <td>15545</td>\n",
       "      <td>2019-02-04 18:25:33</td>\n",
       "      <td>41.856268</td>\n",
       "      <td>...</td>\n",
       "      <td></td>\n",
       "      <td>Burnham Harbor</td>\n",
       "      <td></td>\n",
       "      <td>Burnham Harbor</td>\n",
       "      <td>IN_SERVICE</td>\n",
       "      <td>1</td>\n",
       "      <td>In Service</td>\n",
       "      <td>False</td>\n",
       "      <td>23</td>\n",
       "      <td>2019-02-04 18:25:34</td>\n",
       "    </tr>\n",
       "    <tr>\n",
       "      <th>3</th>\n",
       "      <td></td>\n",
       "      <td>14</td>\n",
       "      <td>9</td>\n",
       "      <td>Chicago</td>\n",
       "      <td>5</td>\n",
       "      <td>True</td>\n",
       "      <td>K3_FULL</td>\n",
       "      <td>13030</td>\n",
       "      <td>2019-02-04 18:24:58</td>\n",
       "      <td>41.874053</td>\n",
       "      <td>...</td>\n",
       "      <td>60605</td>\n",
       "      <td>State St &amp; Harrison St</td>\n",
       "      <td></td>\n",
       "      <td>State St &amp; Harrison St</td>\n",
       "      <td>IN_SERVICE</td>\n",
       "      <td>1</td>\n",
       "      <td>In Service</td>\n",
       "      <td>False</td>\n",
       "      <td>23</td>\n",
       "      <td>2019-02-04 18:25:34</td>\n",
       "    </tr>\n",
       "    <tr>\n",
       "      <th>4</th>\n",
       "      <td></td>\n",
       "      <td>18</td>\n",
       "      <td>20</td>\n",
       "      <td>Chicago</td>\n",
       "      <td>6</td>\n",
       "      <td>True</td>\n",
       "      <td>K3_FULL</td>\n",
       "      <td>15548</td>\n",
       "      <td>2019-02-04 18:24:12</td>\n",
       "      <td>41.886976</td>\n",
       "      <td>...</td>\n",
       "      <td>60601</td>\n",
       "      <td>Dusable Harbor</td>\n",
       "      <td></td>\n",
       "      <td>Dusable Harbor</td>\n",
       "      <td>IN_SERVICE</td>\n",
       "      <td>1</td>\n",
       "      <td>In Service</td>\n",
       "      <td>False</td>\n",
       "      <td>39</td>\n",
       "      <td>2019-02-04 18:25:34</td>\n",
       "    </tr>\n",
       "  </tbody>\n",
       "</table>\n",
       "<p>5 rows × 22 columns</p>\n",
       "</div>"
      ],
      "text/plain": [
       "  altitude  availableBikes  availableDocks     city  id  is_renting kioskType  \\\n",
       "0                       19              20  Chicago   2        True   K3_FULL   \n",
       "1                        5              50  Chicago   3        True   K3_FULL   \n",
       "2                       10              13  Chicago   4        True   K3_FULL   \n",
       "3                       14               9  Chicago   5        True   K3_FULL   \n",
       "4                       18              20  Chicago   6        True   K3_FULL   \n",
       "\n",
       "  landMark lastCommunicationTime   latitude         ...          postalCode  \\\n",
       "0    15541   2019-02-04 18:22:28  41.876470         ...               60605   \n",
       "1    15544   2019-02-04 18:25:32  41.867226         ...                       \n",
       "2    15545   2019-02-04 18:25:33  41.856268         ...                       \n",
       "3    13030   2019-02-04 18:24:58  41.874053         ...               60605   \n",
       "4    15548   2019-02-04 18:24:12  41.886976         ...               60601   \n",
       "\n",
       "               stAddress1 stAddress2             stationName      status  \\\n",
       "0     Buckingham Fountain                Buckingham Fountain  IN_SERVICE   \n",
       "1          Shedd Aquarium                     Shedd Aquarium  IN_SERVICE   \n",
       "2          Burnham Harbor                     Burnham Harbor  IN_SERVICE   \n",
       "3  State St & Harrison St             State St & Harrison St  IN_SERVICE   \n",
       "4          Dusable Harbor                     Dusable Harbor  IN_SERVICE   \n",
       "\n",
       "  statusKey statusValue  testStation totalDocks        executionTime  \n",
       "0         1  In Service        False         39  2019-02-04 18:25:34  \n",
       "1         1  In Service        False         55  2019-02-04 18:25:34  \n",
       "2         1  In Service        False         23  2019-02-04 18:25:34  \n",
       "3         1  In Service        False         23  2019-02-04 18:25:34  \n",
       "4         1  In Service        False         39  2019-02-04 18:25:34  \n",
       "\n",
       "[5 rows x 22 columns]"
      ]
     },
     "execution_count": 5,
     "metadata": {},
     "output_type": "execute_result"
    }
   ],
   "source": [
    "df = divvy.stations_feed.get_data()\n",
    "df.head()"
   ]
  },
  {
   "cell_type": "code",
   "execution_count": null,
   "metadata": {
    "scrolled": true
   },
   "outputs": [],
   "source": [
    "# df = divvy.historical_data.get_stations(\n",
    "#     year=[str(_) for _ in range(2013,2019)]\n",
    "# )\n",
    "# df.to_pickle('stations.pkl')\n",
    "\n",
    "# df = divvy.historical_data.get_rides(year=['2016', '2017', '2018'])\n",
    "# df = df.sort_values('start_time')\n",
    "# df['tripduration'] = df['tripduration'].str.replace(',', '').astype(float)\n",
    "# df.to_pickle('data/data_2016-2018.pkl')"
   ]
  },
  {
   "cell_type": "code",
   "execution_count": 6,
   "metadata": {},
   "outputs": [],
   "source": [
    "df = pd.read_pickle('data/data_2016-2018.pkl')"
   ]
  },
  {
   "cell_type": "code",
   "execution_count": 13,
   "metadata": {},
   "outputs": [
    {
     "data": {
      "image/png": "[encoded data removed]",
      "text/plain": [
       "<Figure size 432x288 with 1 Axes>"
      ]
     },
     "metadata": {},
     "output_type": "display_data"
    }
   ],
   "source": [
    "# How many times has each bike been ridden?\n",
    "df['bikeid'].value_counts().plot.hist(bins=100);"
   ]
  },
  {
   "cell_type": "code",
   "execution_count": 20,
   "metadata": {},
   "outputs": [
    {
     "data": {
      "image/png": "[encoded data removed]",
      "text/plain": [
       "<Figure size 432x288 with 1 Axes>"
      ]
     },
     "metadata": {},
     "output_type": "display_data"
    }
   ],
   "source": [
    "# Count of first month bike used\n",
    "color=(31/256,119/256,180/256,1)\n",
    "\n",
    "frst_use = df.groupby('bikeid')['start_time'].first()\n",
    "\n",
    "(frst_use.groupby([frst_use.dt.year, frst_use.dt.month])\n",
    "         .count()\n",
    "         .reindex()\n",
    "         .plot.bar(color=color, width=1));"
   ]
  },
  {
   "cell_type": "code",
   "execution_count": 23,
   "metadata": {},
   "outputs": [
    {
     "data": {
      "image/png": "[encoded data removed]",
      "text/plain": [
       "<Figure size 432x288 with 1 Axes>"
      ]
     },
     "metadata": {},
     "output_type": "display_data"
    }
   ],
   "source": [
    "# Count of monthly rides\n",
    "(df['start_time'].groupby([df['start_time'].dt.year, df['start_time'].dt.month])\n",
    "                 .count()\n",
    "                 .plot.bar(color=color, width=1));"
   ]
  },
  {
   "cell_type": "code",
   "execution_count": 10,
   "metadata": {
    "scrolled": true
   },
   "outputs": [
    {
     "data": {
      "image/png": "[encoded data removed]",
      "text/plain": [
       "<Figure size 432x288 with 1 Axes>"
      ]
     },
     "metadata": {},
     "output_type": "display_data"
    }
   ],
   "source": [
    "# How long are trips?\n",
    "plt = (df.tripduration.loc[df.tripduration < df.tripduration.quantile(.95)]\n",
    "                      .plot.hist(bins=100));"
   ]
  },
  {
   "cell_type": "markdown",
   "metadata": {},
   "source": [
    "## Get Station Coordinates"
   ]
  },
  {
   "cell_type": "code",
   "execution_count": 20,
   "metadata": {},
   "outputs": [],
   "source": [
    "connections = (df.groupby(['from_station_id','to_station_id'])\n",
    "                 .agg({'trip_id':'count'}))"
   ]
  },
  {
   "cell_type": "code",
   "execution_count": 36,
   "metadata": {},
   "outputs": [
    {
     "data": {
      "text/plain": [
       "2.57"
      ]
     },
     "execution_count": 36,
     "metadata": {},
     "output_type": "execute_result"
    }
   ],
   "source": [
    "# Using google maps, I would have to filter to routes that have >35 \n",
    "# rides in order for it to be free-ish\n",
    "cutoff = 35\n",
    "(len(connections.loc[connections['trip_id'] > cutoff]) - 40000) * 0.005 #cents/query"
   ]
  },
  {
   "cell_type": "markdown",
   "metadata": {},
   "source": [
    "https://developers.google.com/maps/documentation/directions/start\n",
    "\n",
    "https://developers.google.com/maps/billing/understanding-cost-of-use#directions\n",
    "\n",
    "https://developers.google.com/maps/documentation/directions/intro#TravelModes"
   ]
  }
 ],
 "metadata": {
  "kernelspec": {
   "display_name": "Python 3",
   "language": "python",
   "name": "python3"
  },
  "language_info": {
   "codemirror_mode": {
    "name": "ipython",
    "version": 3
   },
   "file_extension": ".py",
   "mimetype": "text/x-python",
   "name": "python",
   "nbconvert_exporter": "python",
   "pygments_lexer": "ipython3",
   "version": "3.6.4"
  }
 },
 "nbformat": 4,
 "nbformat_minor": 2
}
